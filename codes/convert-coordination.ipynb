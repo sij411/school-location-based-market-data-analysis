{
 "cells": [
  {
   "cell_type": "markdown",
   "id": "2d3a7dec-5414-445b-8514-abf80ca34bd0",
   "metadata": {},
   "source": [
    "# 상권 코드 좌표 변환\n",
    "- 상권 코드 : EPSG: 5181 사용\n",
    "- 변환할 좌표계: EPSG: 4326 (학교 위치 데이터에서 사용)"
   ]
  },
  {
   "cell_type": "code",
   "execution_count": 32,
   "id": "e5adcb25-792d-4f81-a99c-07e8531a928d",
   "metadata": {
    "tags": []
   },
   "outputs": [],
   "source": [
    "# 라이브러리\n",
    "from pyproj import Proj, Transformer, CRS\n",
    "import pandas as pd\n",
    "import warnings\n",
    "warnings.filterwarnings(\"ignore\")"
   ]
  },
  {
   "cell_type": "code",
   "execution_count": 33,
   "id": "cb2f8b27-d8a1-4aba-8dc7-12e63dc57a5b",
   "metadata": {
    "tags": []
   },
   "outputs": [
    {
     "data": {
      "text/html": [
       "<div>\n",
       "<style scoped>\n",
       "    .dataframe tbody tr th:only-of-type {\n",
       "        vertical-align: middle;\n",
       "    }\n",
       "\n",
       "    .dataframe tbody tr th {\n",
       "        vertical-align: top;\n",
       "    }\n",
       "\n",
       "    .dataframe thead th {\n",
       "        text-align: right;\n",
       "    }\n",
       "</style>\n",
       "<table border=\"1\" class=\"dataframe\">\n",
       "  <thead>\n",
       "    <tr style=\"text-align: right;\">\n",
       "      <th></th>\n",
       "      <th>상권_코드</th>\n",
       "      <th>상권_코드_명</th>\n",
       "      <th>엑스좌표_값</th>\n",
       "      <th>와이좌표_값</th>\n",
       "    </tr>\n",
       "  </thead>\n",
       "  <tbody>\n",
       "    <tr>\n",
       "      <th>0</th>\n",
       "      <td>3110008</td>\n",
       "      <td>배화여자대학교(박노수미술관)</td>\n",
       "      <td>197093</td>\n",
       "      <td>453418</td>\n",
       "    </tr>\n",
       "    <tr>\n",
       "      <th>1</th>\n",
       "      <td>3110009</td>\n",
       "      <td>자하문터널</td>\n",
       "      <td>196991</td>\n",
       "      <td>455057</td>\n",
       "    </tr>\n",
       "    <tr>\n",
       "      <th>2</th>\n",
       "      <td>3110010</td>\n",
       "      <td>평창동서측</td>\n",
       "      <td>197064</td>\n",
       "      <td>456643</td>\n",
       "    </tr>\n",
       "  </tbody>\n",
       "</table>\n",
       "</div>"
      ],
      "text/plain": [
       "     상권_코드          상권_코드_명  엑스좌표_값  와이좌표_값\n",
       "0  3110008  배화여자대학교(박노수미술관)  197093  453418\n",
       "1  3110009            자하문터널  196991  455057\n",
       "2  3110010            평창동서측  197064  456643"
      ]
     },
     "execution_count": 33,
     "metadata": {},
     "output_type": "execute_result"
    }
   ],
   "source": [
    "# 상권 코드 좌표 데이터\n",
    "\n",
    "df = pd.read_csv(\"/Users/jiwon/portfolio/school-location-based-market-data-analysis/datasets/raw-datasets/seoul-region.csv\")\n",
    "df1 = df.copy()\n",
    "# necessary columns\n",
    "region = df[[\"상권_코드\", \"상권_코드_명\", \"엑스좌표_값\", \"와이좌표_값\"]]\n",
    "region.head(3)"
   ]
  },
  {
   "cell_type": "code",
   "execution_count": 35,
   "id": "58e5c0e1-59b0-40d4-b060-7023a62a4fac",
   "metadata": {
    "tags": []
   },
   "outputs": [
    {
     "data": {
      "text/plain": [
       "<Geographic 2D CRS: EPSG:4258>\n",
       "Name: ETRS89\n",
       "Axis Info [ellipsoidal]:\n",
       "- Lat[north]: Geodetic latitude (degree)\n",
       "- Lon[east]: Geodetic longitude (degree)\n",
       "Area of Use:\n",
       "- name: Europe - onshore and offshore: Albania; Andorra; Austria; Belgium; Bosnia and Herzegovina; Bulgaria; Croatia; Cyprus; Czechia; Denmark; Estonia; Faroe Islands; Finland; France; Germany; Gibraltar; Greece; Hungary; Ireland; Italy; Kosovo; Latvia; Liechtenstein; Lithuania; Luxembourg; Malta; Moldova; Monaco; Montenegro; Netherlands; North Macedonia; Norway including Svalbard and Jan Mayen; Poland; Portugal; Romania; San Marino; Serbia; Slovakia; Slovenia; Spain; Sweden; Switzerland; United Kingdom (UK) including Channel Islands and Isle of Man; Vatican City State.\n",
       "- bounds: (-16.1, 32.88, 40.18, 84.73)\n",
       "Datum: European Terrestrial Reference System 1989 ensemble\n",
       "- Ellipsoid: GRS 1980\n",
       "- Prime Meridian: Greenwich"
      ]
     },
     "execution_count": 35,
     "metadata": {},
     "output_type": "execute_result"
    }
   ],
   "source": [
    "# EPSg: 5181\n",
    "crs_5181"
   ]
  },
  {
   "cell_type": "code",
   "execution_count": 36,
   "id": "48b1470c-75a3-4ee7-ae2c-896f3d1a53ee",
   "metadata": {
    "tags": []
   },
   "outputs": [
    {
     "data": {
      "text/plain": [
       "<Geographic 2D CRS: EPSG:4326>\n",
       "Name: WGS 84\n",
       "Axis Info [ellipsoidal]:\n",
       "- Lat[north]: Geodetic latitude (degree)\n",
       "- Lon[east]: Geodetic longitude (degree)\n",
       "Area of Use:\n",
       "- name: World.\n",
       "- bounds: (-180.0, -90.0, 180.0, 90.0)\n",
       "Datum: World Geodetic System 1984 ensemble\n",
       "- Ellipsoid: WGS 84\n",
       "- Prime Meridian: Greenwich"
      ]
     },
     "execution_count": 36,
     "metadata": {},
     "output_type": "execute_result"
    }
   ],
   "source": [
    "# EPSG: 4326\n",
    "crs_4326"
   ]
  },
  {
   "cell_type": "code",
   "execution_count": 43,
   "id": "c695d968-4d0d-4dd5-ba1b-62e9878e5411",
   "metadata": {
    "tags": []
   },
   "outputs": [],
   "source": [
    "# 프로젝션 정의\n",
    "'''\n",
    "- 중부원점(GRS80)-falseY:50000: 서울시 열린데이터광장에서 제공하는 데이터에 사용된 좌표계 \n",
    "- EPSG:5181\n",
    "- 서울시 상권분석서비스(상권-영역)에 사용된 좌표계\n",
    "'''\n",
    "proj_1 = Proj(init='epsg:5181')\n",
    "\n",
    "\n",
    "'''\n",
    "- WGS84 경위도 \n",
    "- EPSG:4326\n",
    "- 학구도안내서비스에서 제공하는 학교 위치 데이터에서 사용\n",
    "'''\n",
    "proj_2 = Proj(init='epsg:4326')\n",
    "\n",
    "# 변환환 좌표를 경위도로 저장\n",
    "converted = transform(proj_1, proj_2, df['엑스좌표_값'].values, df['와이좌표_값'].values)\n",
    "df['경도'] = converted[0]\n",
    "df['위도'] = converted[1]"
   ]
  },
  {
   "cell_type": "code",
   "execution_count": 45,
   "id": "9c248895-871b-44ef-b47d-24c88f20ebac",
   "metadata": {
    "tags": []
   },
   "outputs": [
    {
     "data": {
      "text/plain": [
       "0       126.967090\n",
       "1       126.965928\n",
       "2       126.966748\n",
       "3       126.983935\n",
       "4       126.987354\n",
       "           ...    \n",
       "1645    126.981856\n",
       "1646    127.011274\n",
       "1647    126.997691\n",
       "1648    127.115241\n",
       "1649    127.059743\n",
       "Name: 경도, Length: 1650, dtype: float64"
      ]
     },
     "execution_count": 45,
     "metadata": {},
     "output_type": "execute_result"
    }
   ],
   "source": [
    "df['경도']"
   ]
  },
  {
   "cell_type": "code",
   "execution_count": 46,
   "id": "97b13a8d-6d38-4b43-a0bf-c280acfc567c",
   "metadata": {
    "tags": []
   },
   "outputs": [
    {
     "data": {
      "text/plain": [
       "0       37.580309\n",
       "1       37.595076\n",
       "2       37.609366\n",
       "3       37.583584\n",
       "4       37.582764\n",
       "          ...    \n",
       "1645    37.564059\n",
       "1646    37.567321\n",
       "1647    37.570007\n",
       "1648    37.516431\n",
       "1649    37.511084\n",
       "Name: 위도, Length: 1650, dtype: float64"
      ]
     },
     "execution_count": 46,
     "metadata": {},
     "output_type": "execute_result"
    }
   ],
   "source": [
    "df['위도']"
   ]
  },
  {
   "cell_type": "code",
   "execution_count": 48,
   "id": "8bfbc09c-e59c-4f2a-8685-a4afb3221102",
   "metadata": {
    "tags": []
   },
   "outputs": [
    {
     "name": "stdout",
     "output_type": "stream",
     "text": [
      "<class 'pandas.core.frame.DataFrame'>\n",
      "RangeIndex: 1650 entries, 0 to 1649\n",
      "Data columns (total 15 columns):\n",
      " #   Column      Non-Null Count  Dtype  \n",
      "---  ------      --------------  -----  \n",
      " 0   상권_구분_코드    1650 non-null   object \n",
      " 1   상권_구분_코드_명  1650 non-null   object \n",
      " 2   상권_코드       1650 non-null   int64  \n",
      " 3   상권_코드_명     1650 non-null   object \n",
      " 4   엑스좌표_값      1650 non-null   int64  \n",
      " 5   와이좌표_값      1650 non-null   int64  \n",
      " 6   자치구_코드      1650 non-null   int64  \n",
      " 7   자치구_코드_명    1650 non-null   object \n",
      " 8   행정동_코드      1650 non-null   int64  \n",
      " 9   행정동_코드_명    1650 non-null   object \n",
      " 10  영역_면적       1650 non-null   int64  \n",
      " 11  lon         1650 non-null   float64\n",
      " 12  lat         1650 non-null   float64\n",
      " 13  경도          1650 non-null   float64\n",
      " 14  위도          1650 non-null   float64\n",
      "dtypes: float64(4), int64(6), object(5)\n",
      "memory usage: 193.5+ KB\n"
     ]
    }
   ],
   "source": [
    "# 변환된 경도, 위도 좌표가 데이터프레임에 추가된 것을 확인\n",
    "df.info()"
   ]
  },
  {
   "cell_type": "code",
   "execution_count": 50,
   "id": "57cdacac-13de-4dc9-abaa-8470da3f7ded",
   "metadata": {
    "tags": []
   },
   "outputs": [],
   "source": [
    "# 파일 저장\n",
    "df.to_csv(\"market-region-converted.csv\")"
   ]
  },
  {
   "cell_type": "code",
   "execution_count": null,
   "id": "5876afea-9cd9-419d-84ce-0bb6d3088729",
   "metadata": {},
   "outputs": [],
   "source": []
  }
 ],
 "metadata": {
  "kernelspec": {
   "display_name": "Python 3 (ipykernel)",
   "language": "python",
   "name": "python3"
  },
  "language_info": {
   "codemirror_mode": {
    "name": "ipython",
    "version": 3
   },
   "file_extension": ".py",
   "mimetype": "text/x-python",
   "name": "python",
   "nbconvert_exporter": "python",
   "pygments_lexer": "ipython3",
   "version": "3.11.4"
  }
 },
 "nbformat": 4,
 "nbformat_minor": 5
}
