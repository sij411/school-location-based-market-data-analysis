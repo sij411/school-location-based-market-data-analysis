{
 "cells": [
  {
   "cell_type": "markdown",
   "id": "99326859-813f-4a4f-a589-a6018ec9dfd5",
   "metadata": {},
   "source": [
    "# 초중고 위치 데이터 (raw)"
   ]
  },
  {
   "cell_type": "code",
   "execution_count": 267,
   "id": "e4efecd1-bdeb-4c09-88e8-f82e6fefe528",
   "metadata": {
    "tags": []
   },
   "outputs": [],
   "source": [
    "import pandas as pd\n",
    "import numpy as np\n",
    "import matplotlib as mpl\n",
    "import matplotlib.pyplot as plt\n",
    "\n",
    "from toolkit import toolkit\n",
    "import warnings\n",
    "warnings.filterwarnings(\"ignore\")"
   ]
  },
  {
   "cell_type": "code",
   "execution_count": 1,
   "id": "85b28637-b087-4684-8930-2eaedbb6eecd",
   "metadata": {
    "tags": []
   },
   "outputs": [
    {
     "ename": "NameError",
     "evalue": "name 'plt' is not defined",
     "output_type": "error",
     "traceback": [
      "\u001b[0;31m---------------------------------------------------------------------------\u001b[0m",
      "\u001b[0;31mNameError\u001b[0m                                 Traceback (most recent call last)",
      "Cell \u001b[0;32mIn[1], line 2\u001b[0m\n\u001b[1;32m      1\u001b[0m \u001b[38;5;66;03m# 한글 폰트 \u001b[39;00m\n\u001b[0;32m----> 2\u001b[0m plt\u001b[38;5;241m.\u001b[39mrcParams[\u001b[38;5;124m'\u001b[39m\u001b[38;5;124mfont.family\u001b[39m\u001b[38;5;124m'\u001b[39m] \u001b[38;5;241m=\u001b[39m \u001b[38;5;124m'\u001b[39m\u001b[38;5;124mApple SD Gothic Neo\u001b[39m\u001b[38;5;124m'\u001b[39m\n",
      "\u001b[0;31mNameError\u001b[0m: name 'plt' is not defined"
     ]
    }
   ],
   "source": [
    "# 한글 폰트 \n",
    "plt.rcParams['font.family'] = 'Apple SD Gothic Neo' "
   ]
  },
  {
   "cell_type": "code",
   "execution_count": 269,
   "id": "b0c986ed-d354-4dda-833f-2b1155084832",
   "metadata": {
    "tags": []
   },
   "outputs": [],
   "source": [
    "path = \"/Users/jiwon/portfolio/school-location-based-market-data-analysis/datasets/raw-datasets/school-region.csv\"\n",
    "\n",
    "dt = pd.read_csv(path)"
   ]
  },
  {
   "cell_type": "code",
   "execution_count": 270,
   "id": "4da57f7c-b669-4ce7-9107-ccbf68d3e8d6",
   "metadata": {
    "tags": []
   },
   "outputs": [
    {
     "name": "stdout",
     "output_type": "stream",
     "text": [
      "<class 'pandas.core.frame.DataFrame'>\n",
      "RangeIndex: 11989 entries, 0 to 11988\n",
      "Data columns (total 18 columns):\n",
      " #   Column    Non-Null Count  Dtype  \n",
      "---  ------    --------------  -----  \n",
      " 0   학교ID      11989 non-null  object \n",
      " 1   학교명       11989 non-null  object \n",
      " 2   학교급구분     11989 non-null  object \n",
      " 3   설립일자      11989 non-null  object \n",
      " 4   설립형태      11989 non-null  object \n",
      " 5   본교분교구분    11989 non-null  object \n",
      " 6   운영상태      11989 non-null  object \n",
      " 7   소재지지번주소   11989 non-null  object \n",
      " 8   소재지도로명주소  11989 non-null  object \n",
      " 9   시도교육청코드   11989 non-null  int64  \n",
      " 10  시도교육청명    11989 non-null  object \n",
      " 11  교육지원청코드   11989 non-null  int64  \n",
      " 12  교육지원청명    11989 non-null  object \n",
      " 13  생성일자      11989 non-null  object \n",
      " 14  변경일자      11989 non-null  object \n",
      " 15  위도        11989 non-null  float64\n",
      " 16  경도        11989 non-null  float64\n",
      " 17  데이터기준일자   11989 non-null  object \n",
      "dtypes: float64(2), int64(2), object(14)\n",
      "memory usage: 1.6+ MB\n"
     ]
    }
   ],
   "source": [
    "dt.info()"
   ]
  },
  {
   "cell_type": "markdown",
   "id": "5b98940e-f6f8-4fdc-9b64-a495d9266921",
   "metadata": {},
   "source": [
    "## 분석에 필요한 애트리뷰트\n",
    "\n",
    "- 학교명\n",
    "- 학교급구분\n",
    "- 소재지번주소\n",
    "- 소재지도로명주소\n",
    "- 시도교육청\n",
    "- 위도\n",
    "- 경도"
   ]
  },
  {
   "cell_type": "markdown",
   "id": "570606a5-9a4f-4451-8913-9ffafbffd297",
   "metadata": {},
   "source": [
    "## 단변수 분석\n",
    "\n",
    "- 학교명, 소재지번주소, 소재지도로명주소, 위도, 경도는 모두 다르므로 분석을 진행할 이유가 없고 분석하기 어렵습니다.\n",
    "- 분석에 필요한 애트리뷰트 중 학교급구분, 시도교육청에 대해서만 분석을 진행합니다. "
   ]
  },
  {
   "cell_type": "code",
   "execution_count": 259,
   "id": "b0f9e56f-1fab-4998-a92b-88cd1251cfeb",
   "metadata": {
    "tags": []
   },
   "outputs": [
    {
     "data": {
      "text/plain": [
       "18"
      ]
     },
     "execution_count": 259,
     "metadata": {},
     "output_type": "execute_result"
    }
   ],
   "source": [
    "dt.columns\n",
    "len(dt.columns)"
   ]
  },
  {
   "cell_type": "code",
   "execution_count": 260,
   "id": "2c57f38e-a3f6-4bf0-bb06-a0dd8e530684",
   "metadata": {
    "tags": []
   },
   "outputs": [
    {
     "data": {
      "text/html": [
       "<div>\n",
       "<style scoped>\n",
       "    .dataframe tbody tr th:only-of-type {\n",
       "        vertical-align: middle;\n",
       "    }\n",
       "\n",
       "    .dataframe tbody tr th {\n",
       "        vertical-align: top;\n",
       "    }\n",
       "\n",
       "    .dataframe thead th {\n",
       "        text-align: right;\n",
       "    }\n",
       "</style>\n",
       "<table border=\"1\" class=\"dataframe\">\n",
       "  <thead>\n",
       "    <tr style=\"text-align: right;\">\n",
       "      <th></th>\n",
       "      <th>학교ID</th>\n",
       "      <th>학교명</th>\n",
       "      <th>학교급구분</th>\n",
       "      <th>설립일자</th>\n",
       "      <th>설립형태</th>\n",
       "      <th>본교분교구분</th>\n",
       "      <th>운영상태</th>\n",
       "      <th>소재지지번주소</th>\n",
       "      <th>소재지도로명주소</th>\n",
       "      <th>시도교육청코드</th>\n",
       "      <th>시도교육청명</th>\n",
       "      <th>교육지원청코드</th>\n",
       "      <th>교육지원청명</th>\n",
       "      <th>생성일자</th>\n",
       "      <th>변경일자</th>\n",
       "      <th>위도</th>\n",
       "      <th>경도</th>\n",
       "      <th>데이터기준일자</th>\n",
       "    </tr>\n",
       "  </thead>\n",
       "  <tbody>\n",
       "    <tr>\n",
       "      <th>0</th>\n",
       "      <td>B000008068</td>\n",
       "      <td>의귀초등학교</td>\n",
       "      <td>초등학교</td>\n",
       "      <td>2/20/59</td>\n",
       "      <td>공립</td>\n",
       "      <td>본교</td>\n",
       "      <td>운영</td>\n",
       "      <td>제주특별자치도 서귀포시 남원읍 의귀리 1483-3</td>\n",
       "      <td>제주특별자치도 서귀포시 남원읍 한신로 213</td>\n",
       "      <td>9290000</td>\n",
       "      <td>제주특별자치도교육청</td>\n",
       "      <td>9299000</td>\n",
       "      <td>제주특별자치도서귀포시교육지원청</td>\n",
       "      <td>11/29/13</td>\n",
       "      <td>7/3/23</td>\n",
       "      <td>33.311119</td>\n",
       "      <td>126.714628</td>\n",
       "      <td>9/22/23</td>\n",
       "    </tr>\n",
       "    <tr>\n",
       "      <th>1</th>\n",
       "      <td>B000022613</td>\n",
       "      <td>거제장평중학교</td>\n",
       "      <td>중학교</td>\n",
       "      <td>5/1/13</td>\n",
       "      <td>공립</td>\n",
       "      <td>본교</td>\n",
       "      <td>운영</td>\n",
       "      <td>경상남도 거제시 장평동 148</td>\n",
       "      <td>경상남도 거제시 장평4로 40</td>\n",
       "      <td>9010000</td>\n",
       "      <td>경상남도교육청</td>\n",
       "      <td>9111000</td>\n",
       "      <td>경상남도거제교육지원청</td>\n",
       "      <td>11/29/13</td>\n",
       "      <td>7/3/23</td>\n",
       "      <td>34.886086</td>\n",
       "      <td>128.606467</td>\n",
       "      <td>9/22/23</td>\n",
       "    </tr>\n",
       "    <tr>\n",
       "      <th>2</th>\n",
       "      <td>B000022983</td>\n",
       "      <td>연무여자중학교</td>\n",
       "      <td>중학교</td>\n",
       "      <td>4/10/70</td>\n",
       "      <td>사립</td>\n",
       "      <td>본교</td>\n",
       "      <td>운영</td>\n",
       "      <td>충청남도 논산시 연무읍 동산리 879</td>\n",
       "      <td>충청남도 논산시 연무읍 동안로887번길 5</td>\n",
       "      <td>8140000</td>\n",
       "      <td>충청남도교육청</td>\n",
       "      <td>8222000</td>\n",
       "      <td>충청남도논산계룡교육지원청</td>\n",
       "      <td>11/29/13</td>\n",
       "      <td>7/3/23</td>\n",
       "      <td>36.135365</td>\n",
       "      <td>127.104633</td>\n",
       "      <td>9/22/23</td>\n",
       "    </tr>\n",
       "    <tr>\n",
       "      <th>3</th>\n",
       "      <td>B000002721</td>\n",
       "      <td>기장초등학교</td>\n",
       "      <td>초등학교</td>\n",
       "      <td>7/1/11</td>\n",
       "      <td>공립</td>\n",
       "      <td>본교</td>\n",
       "      <td>운영</td>\n",
       "      <td>부산광역시 기장군 기장읍 동부리 320</td>\n",
       "      <td>부산광역시 기장군 기장읍 읍내로 69</td>\n",
       "      <td>7150000</td>\n",
       "      <td>부산광역시교육청</td>\n",
       "      <td>7211000</td>\n",
       "      <td>부산광역시해운대교육지원청</td>\n",
       "      <td>11/29/13</td>\n",
       "      <td>7/3/23</td>\n",
       "      <td>35.245772</td>\n",
       "      <td>129.212766</td>\n",
       "      <td>9/22/23</td>\n",
       "    </tr>\n",
       "    <tr>\n",
       "      <th>4</th>\n",
       "      <td>B000012154</td>\n",
       "      <td>성일여자고등학교</td>\n",
       "      <td>고등학교</td>\n",
       "      <td>5/1/86</td>\n",
       "      <td>사립</td>\n",
       "      <td>본교</td>\n",
       "      <td>운영</td>\n",
       "      <td>부산광역시 사하구 신평동 60-1</td>\n",
       "      <td>부산광역시 사하구 다대로 161</td>\n",
       "      <td>7150000</td>\n",
       "      <td>부산광역시교육청</td>\n",
       "      <td>7171000</td>\n",
       "      <td>부산광역시서부교육지원청</td>\n",
       "      <td>11/29/13</td>\n",
       "      <td>7/3/23</td>\n",
       "      <td>35.089500</td>\n",
       "      <td>128.980063</td>\n",
       "      <td>9/22/23</td>\n",
       "    </tr>\n",
       "  </tbody>\n",
       "</table>\n",
       "</div>"
      ],
      "text/plain": [
       "         학교ID       학교명 학교급구분     설립일자 설립형태 본교분교구분 운영상태  \\\n",
       "0  B000008068    의귀초등학교  초등학교  2/20/59   공립     본교   운영   \n",
       "1  B000022613   거제장평중학교   중학교   5/1/13   공립     본교   운영   \n",
       "2  B000022983   연무여자중학교   중학교  4/10/70   사립     본교   운영   \n",
       "3  B000002721    기장초등학교  초등학교   7/1/11   공립     본교   운영   \n",
       "4  B000012154  성일여자고등학교  고등학교   5/1/86   사립     본교   운영   \n",
       "\n",
       "                       소재지지번주소                  소재지도로명주소  시도교육청코드      시도교육청명  \\\n",
       "0  제주특별자치도 서귀포시 남원읍 의귀리 1483-3  제주특별자치도 서귀포시 남원읍 한신로 213  9290000  제주특별자치도교육청   \n",
       "1             경상남도 거제시 장평동 148          경상남도 거제시 장평4로 40  9010000     경상남도교육청   \n",
       "2         충청남도 논산시 연무읍 동산리 879   충청남도 논산시 연무읍 동안로887번길 5  8140000     충청남도교육청   \n",
       "3        부산광역시 기장군 기장읍 동부리 320      부산광역시 기장군 기장읍 읍내로 69  7150000    부산광역시교육청   \n",
       "4           부산광역시 사하구 신평동 60-1         부산광역시 사하구 다대로 161  7150000    부산광역시교육청   \n",
       "\n",
       "   교육지원청코드            교육지원청명      생성일자    변경일자         위도          경도  데이터기준일자  \n",
       "0  9299000  제주특별자치도서귀포시교육지원청  11/29/13  7/3/23  33.311119  126.714628  9/22/23  \n",
       "1  9111000       경상남도거제교육지원청  11/29/13  7/3/23  34.886086  128.606467  9/22/23  \n",
       "2  8222000     충청남도논산계룡교육지원청  11/29/13  7/3/23  36.135365  127.104633  9/22/23  \n",
       "3  7211000     부산광역시해운대교육지원청  11/29/13  7/3/23  35.245772  129.212766  9/22/23  \n",
       "4  7171000      부산광역시서부교육지원청  11/29/13  7/3/23  35.089500  128.980063  9/22/23  "
      ]
     },
     "metadata": {},
     "output_type": "display_data"
    }
   ],
   "source": [
    "display(dt.head(5))"
   ]
  },
  {
   "cell_type": "code",
   "execution_count": 261,
   "id": "1b2cce94-cf17-49fb-8bc4-37c6a4ce5e77",
   "metadata": {
    "tags": []
   },
   "outputs": [
    {
     "data": {
      "text/plain": [
       "학교ID        0\n",
       "학교명         0\n",
       "학교급구분       0\n",
       "설립일자        0\n",
       "설립형태        0\n",
       "본교분교구분      0\n",
       "운영상태        0\n",
       "소재지지번주소     0\n",
       "소재지도로명주소    0\n",
       "시도교육청코드     0\n",
       "시도교육청명      0\n",
       "교육지원청코드     0\n",
       "교육지원청명      0\n",
       "생성일자        0\n",
       "변경일자        0\n",
       "위도          0\n",
       "경도          0\n",
       "데이터기준일자     0\n",
       "dtype: int64"
      ]
     },
     "execution_count": 261,
     "metadata": {},
     "output_type": "execute_result"
    }
   ],
   "source": [
    "# 결측치 확인\n",
    "\n",
    "dt.isnull().sum()"
   ]
  },
  {
   "cell_type": "code",
   "execution_count": 262,
   "id": "fd7d9bad-874f-4796-9321-9dc2686e2ff6",
   "metadata": {
    "tags": []
   },
   "outputs": [
    {
     "data": {
      "image/png": "[encoded data removed]",
      "text/plain": [
       "<Figure size 900x300 with 1 Axes>"
      ]
     },
     "metadata": {},
     "output_type": "display_data"
    },
    {
     "name": "stdout",
     "output_type": "stream",
     "text": [
      "시도교육청명: \n",
      " 경기도교육청        2499\n",
      "서울특별시교육청      1313\n",
      "경상남도교육청        984\n",
      "경상북도교육청        939\n",
      "전라남도교육청        853\n",
      "전라북도교육청        766\n",
      "충청남도교육청        726\n",
      "강원특별자치도교육청     642\n",
      "부산광역시교육청       617\n",
      "인천광역시교육청       542\n",
      "충청북도교육청        479\n",
      "대구광역시교육청       467\n",
      "광주광역시교육청       315\n",
      "대전광역시교육청       303\n",
      "울산광역시교육청       243\n",
      "제주특별자치도교육청     200\n",
      "세종특별자치시교육청     101\n",
      "Name: 시도교육청명, dtype: int64\n"
     ]
    }
   ],
   "source": [
    "toolkit.bar_plot(dt, '시도교육청명')"
   ]
  },
  {
   "cell_type": "code",
   "execution_count": 263,
   "id": "42d47a7f-3219-488e-9c21-b22133390064",
   "metadata": {
    "tags": []
   },
   "outputs": [
    {
     "data": {
      "image/png": "[encoded data removed]",
      "text/plain": [
       "<Figure size 900x300 with 1 Axes>"
      ]
     },
     "metadata": {},
     "output_type": "display_data"
    },
    {
     "name": "stdout",
     "output_type": "stream",
     "text": [
      "학교급구분: \n",
      " 초등학교    6319\n",
      "중학교     3283\n",
      "고등학교    2387\n",
      "Name: 학교급구분, dtype: int64\n"
     ]
    }
   ],
   "source": [
    "# 전체 데이터에서 학교급 분포도\n",
    "\n",
    "toolkit.bar_plot(dt, \"학교급구분\")"
   ]
  },
  {
   "cell_type": "code",
   "execution_count": 264,
   "id": "7fb7a241-0094-41c7-bc64-1b8dad958451",
   "metadata": {
    "tags": []
   },
   "outputs": [
    {
     "data": {
      "text/plain": [
       "count           11989\n",
       "unique            177\n",
       "top       경상남도창원교육지원청\n",
       "freq              228\n",
       "Name: 교육지원청명, dtype: object"
      ]
     },
     "execution_count": 264,
     "metadata": {},
     "output_type": "execute_result"
    }
   ],
   "source": [
    "dt[\"교육지원청명\"].describe()"
   ]
  },
  {
   "cell_type": "code",
   "execution_count": 186,
   "id": "76e15c71-90e7-4f80-8c1c-29b503ef111e",
   "metadata": {},
   "outputs": [
    {
     "data": {
      "text/html": [
       "<div>\n",
       "<style scoped>\n",
       "    .dataframe tbody tr th:only-of-type {\n",
       "        vertical-align: middle;\n",
       "    }\n",
       "\n",
       "    .dataframe tbody tr th {\n",
       "        vertical-align: top;\n",
       "    }\n",
       "\n",
       "    .dataframe thead th {\n",
       "        text-align: right;\n",
       "    }\n",
       "</style>\n",
       "<table border=\"1\" class=\"dataframe\">\n",
       "  <thead>\n",
       "    <tr style=\"text-align: right;\">\n",
       "      <th></th>\n",
       "      <th>학교급구분</th>\n",
       "      <th>시도교육청명</th>\n",
       "    </tr>\n",
       "  </thead>\n",
       "  <tbody>\n",
       "    <tr>\n",
       "      <th>0</th>\n",
       "      <td>초등학교</td>\n",
       "      <td>제주특별자치도교육청</td>\n",
       "    </tr>\n",
       "    <tr>\n",
       "      <th>1</th>\n",
       "      <td>중학교</td>\n",
       "      <td>경상남도교육청</td>\n",
       "    </tr>\n",
       "    <tr>\n",
       "      <th>2</th>\n",
       "      <td>중학교</td>\n",
       "      <td>충청남도교육청</td>\n",
       "    </tr>\n",
       "    <tr>\n",
       "      <th>3</th>\n",
       "      <td>초등학교</td>\n",
       "      <td>부산광역시교육청</td>\n",
       "    </tr>\n",
       "    <tr>\n",
       "      <th>4</th>\n",
       "      <td>고등학교</td>\n",
       "      <td>부산광역시교육청</td>\n",
       "    </tr>\n",
       "    <tr>\n",
       "      <th>...</th>\n",
       "      <td>...</td>\n",
       "      <td>...</td>\n",
       "    </tr>\n",
       "    <tr>\n",
       "      <th>11984</th>\n",
       "      <td>고등학교</td>\n",
       "      <td>광주광역시교육청</td>\n",
       "    </tr>\n",
       "    <tr>\n",
       "      <th>11985</th>\n",
       "      <td>중학교</td>\n",
       "      <td>경상북도교육청</td>\n",
       "    </tr>\n",
       "    <tr>\n",
       "      <th>11986</th>\n",
       "      <td>초등학교</td>\n",
       "      <td>경기도교육청</td>\n",
       "    </tr>\n",
       "    <tr>\n",
       "      <th>11987</th>\n",
       "      <td>중학교</td>\n",
       "      <td>경상남도교육청</td>\n",
       "    </tr>\n",
       "    <tr>\n",
       "      <th>11988</th>\n",
       "      <td>고등학교</td>\n",
       "      <td>경상남도교육청</td>\n",
       "    </tr>\n",
       "  </tbody>\n",
       "</table>\n",
       "<p>11989 rows × 2 columns</p>\n",
       "</div>"
      ],
      "text/plain": [
       "      학교급구분      시도교육청명\n",
       "0      초등학교  제주특별자치도교육청\n",
       "1       중학교     경상남도교육청\n",
       "2       중학교     충청남도교육청\n",
       "3      초등학교    부산광역시교육청\n",
       "4      고등학교    부산광역시교육청\n",
       "...     ...         ...\n",
       "11984  고등학교    광주광역시교육청\n",
       "11985   중학교     경상북도교육청\n",
       "11986  초등학교      경기도교육청\n",
       "11987   중학교     경상남도교육청\n",
       "11988  고등학교     경상남도교육청\n",
       "\n",
       "[11989 rows x 2 columns]"
      ]
     },
     "execution_count": 186,
     "metadata": {},
     "output_type": "execute_result"
    }
   ],
   "source": [
    "dt[[\"학교급구분\", \"시도교육청명\"]]"
   ]
  },
  {
   "cell_type": "markdown",
   "id": "493b681d-307a-48c2-9060-91b148cda33e",
   "metadata": {},
   "source": [
    "서울시에 위치한 학교 주변 상권에 대해 분석할 예정이므로 서울특별시교육청 소속 학교 데이터만 추출합니다. "
   ]
  },
  {
   "cell_type": "code",
   "execution_count": 194,
   "id": "4f3905c4-962d-49f0-b58d-efd865667718",
   "metadata": {},
   "outputs": [],
   "source": [
    "# 서울특별시교육청 소속 학교 데이터\n",
    "\n",
    "dt_seoul = dt[dt[\"시도교육청명\"] == \"서울특별시교육청\"]"
   ]
  },
  {
   "cell_type": "code",
   "execution_count": 192,
   "id": "bda925de-bded-42ab-92bd-0fb7fb56c309",
   "metadata": {},
   "outputs": [
    {
     "data": {
      "text/html": [
       "<div>\n",
       "<style scoped>\n",
       "    .dataframe tbody tr th:only-of-type {\n",
       "        vertical-align: middle;\n",
       "    }\n",
       "\n",
       "    .dataframe tbody tr th {\n",
       "        vertical-align: top;\n",
       "    }\n",
       "\n",
       "    .dataframe thead th {\n",
       "        text-align: right;\n",
       "    }\n",
       "</style>\n",
       "<table border=\"1\" class=\"dataframe\">\n",
       "  <thead>\n",
       "    <tr style=\"text-align: right;\">\n",
       "      <th></th>\n",
       "      <th>학교명</th>\n",
       "      <th>학교급구분</th>\n",
       "    </tr>\n",
       "  </thead>\n",
       "  <tbody>\n",
       "    <tr>\n",
       "      <th>7</th>\n",
       "      <td>대영고등학교</td>\n",
       "      <td>고등학교</td>\n",
       "    </tr>\n",
       "    <tr>\n",
       "      <th>11</th>\n",
       "      <td>서울양동초등학교</td>\n",
       "      <td>초등학교</td>\n",
       "    </tr>\n",
       "    <tr>\n",
       "      <th>22</th>\n",
       "      <td>서울동작초등학교</td>\n",
       "      <td>초등학교</td>\n",
       "    </tr>\n",
       "    <tr>\n",
       "      <th>23</th>\n",
       "      <td>서울문영여자고등학교</td>\n",
       "      <td>고등학교</td>\n",
       "    </tr>\n",
       "    <tr>\n",
       "      <th>24</th>\n",
       "      <td>서울갈산초등학교</td>\n",
       "      <td>초등학교</td>\n",
       "    </tr>\n",
       "  </tbody>\n",
       "</table>\n",
       "</div>"
      ],
      "text/plain": [
       "           학교명 학교급구분\n",
       "7       대영고등학교  고등학교\n",
       "11    서울양동초등학교  초등학교\n",
       "22    서울동작초등학교  초등학교\n",
       "23  서울문영여자고등학교  고등학교\n",
       "24    서울갈산초등학교  초등학교"
      ]
     },
     "execution_count": 192,
     "metadata": {},
     "output_type": "execute_result"
    }
   ],
   "source": [
    "dt_seoul[[\"학교명\", \"학교급구분\"]].head()"
   ]
  },
  {
   "cell_type": "code",
   "execution_count": 196,
   "id": "404664fa-60e2-457e-862b-796902e602a1",
   "metadata": {
    "tags": []
   },
   "outputs": [
    {
     "data": {
      "image/png": "[encoded data removed]",
      "text/plain": [
       "<Figure size 900x300 with 1 Axes>"
      ]
     },
     "metadata": {},
     "output_type": "display_data"
    },
    {
     "name": "stdout",
     "output_type": "stream",
     "text": [
      "학교급구분: \n",
      " 초등학교    604\n",
      "중학교     389\n",
      "고등학교    320\n",
      "Name: 학교급구분, dtype: int64\n"
     ]
    }
   ],
   "source": [
    "# 서울에 위치한 학교들 중 초, 중, 고등학교의 분포도\n",
    "\n",
    "toolkit.bar_plot(dt_seoul, \"학교급구분\")"
   ]
  },
  {
   "cell_type": "code",
   "execution_count": null,
   "id": "52a4826c-c63e-462f-9521-2354e8e2573e",
   "metadata": {},
   "outputs": [],
   "source": []
  }
 ],
 "metadata": {
  "kernelspec": {
   "display_name": "Python 3 (ipykernel)",
   "language": "python",
   "name": "python3"
  },
  "language_info": {
   "codemirror_mode": {
    "name": "ipython",
    "version": 3
   },
   "file_extension": ".py",
   "mimetype": "text/x-python",
   "name": "python",
   "nbconvert_exporter": "python",
   "pygments_lexer": "ipython3",
   "version": "3.11.4"
  }
 },
 "nbformat": 4,
 "nbformat_minor": 5
}
